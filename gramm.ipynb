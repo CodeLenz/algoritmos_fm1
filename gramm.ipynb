{
 "cells": [
  {
   "cell_type": "code",
   "execution_count": 1,
   "id": "81d135ec",
   "metadata": {},
   "outputs": [],
   "source": [
    "using LinearAlgebra"
   ]
  },
  {
   "cell_type": "code",
   "execution_count": 2,
   "id": "eaf93e45",
   "metadata": {},
   "outputs": [
    {
     "data": {
      "text/plain": [
       "Gram (generic function with 1 method)"
      ]
     },
     "execution_count": 2,
     "metadata": {},
     "output_type": "execute_result"
    }
   ],
   "source": [
    "#\n",
    "# Gera uma matriz ortognal Q a partir das colunas\n",
    "# de uma matriz quadrada A de dimensao n x n\n",
    "#\n",
    "function  Gramm(A,n)\n",
    "    U = zeros(n,n)\n",
    "    Q = zeros(n,n)\n",
    "    U[:,1] = A[:,1]\n",
    "    Q[:,1] = U[:,1]/norm(U[:,1])\n",
    "    for k=2:n\n",
    "        U[:,k] = A[:,k]\n",
    "        for j=1:k-1\n",
    "            U[:,k] = U[:,k] - Q[:,j]'*A[:,k]*Q[:,j]\n",
    "        end\n",
    "        Q[:,k] = U[:,k]/norm(U[:,k])\n",
    "    end\n",
    "    return Q\n",
    "end\n"
   ]
  },
  {
   "cell_type": "code",
   "execution_count": 3,
   "id": "d1e40fe0",
   "metadata": {},
   "outputs": [
    {
     "data": {
      "text/plain": [
       "2×2 Matrix{Float64}:\n",
       " 1.0  2.0\n",
       " 3.0  4.0"
      ]
     },
     "execution_count": 3,
     "metadata": {},
     "output_type": "execute_result"
    }
   ],
   "source": [
    "A = [1.0 2.0 ; \n",
    "     3.0 4.0]"
   ]
  },
  {
   "cell_type": "code",
   "execution_count": 7,
   "id": "0238c526",
   "metadata": {},
   "outputs": [
    {
     "data": {
      "text/plain": [
       "2×2 Matrix{Float64}:\n",
       " 0.316228   0.948683\n",
       " 0.948683  -0.316228"
      ]
     },
     "execution_count": 7,
     "metadata": {},
     "output_type": "execute_result"
    }
   ],
   "source": [
    "Q=Gramm(A,2)"
   ]
  },
  {
   "cell_type": "code",
   "execution_count": 8,
   "id": "2edd6b07",
   "metadata": {},
   "outputs": [
    {
     "data": {
      "text/plain": [
       "-3.3306690738754696e-16"
      ]
     },
     "execution_count": 8,
     "metadata": {},
     "output_type": "execute_result"
    }
   ],
   "source": [
    "# Verifica se as colunas são ortogonais\n",
    "dot(Q[:,1],Q[:,2])"
   ]
  },
  {
   "cell_type": "code",
   "execution_count": null,
   "id": "de27ecd3",
   "metadata": {},
   "outputs": [],
   "source": []
  }
 ],
 "metadata": {
  "kernelspec": {
   "display_name": "Julia 1.10.0-DEV",
   "language": "julia",
   "name": "julia-1.10"
  },
  "language_info": {
   "file_extension": ".jl",
   "mimetype": "application/julia",
   "name": "julia",
   "version": "1.10.0"
  }
 },
 "nbformat": 4,
 "nbformat_minor": 5
}
