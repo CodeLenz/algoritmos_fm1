{
 "cells": [
  {
   "cell_type": "code",
   "execution_count": 5,
   "id": "5a84b19c",
   "metadata": {},
   "outputs": [
    {
     "data": {
      "text/plain": [
       "f (generic function with 1 method)"
      ]
     },
     "execution_count": 5,
     "metadata": {},
     "output_type": "execute_result"
    }
   ],
   "source": [
    "f(x) = x-cos(x)"
   ]
  },
  {
   "cell_type": "code",
   "execution_count": 20,
   "id": "295eeb53",
   "metadata": {},
   "outputs": [
    {
     "data": {
      "text/plain": [
       "df (generic function with 1 method)"
      ]
     },
     "execution_count": 20,
     "metadata": {},
     "output_type": "execute_result"
    }
   ],
   "source": [
    "df(x) = 1 + sin(x)"
   ]
  },
  {
   "cell_type": "code",
   "execution_count": null,
   "id": "65f29167",
   "metadata": {},
   "outputs": [],
   "source": []
  },
  {
   "cell_type": "code",
   "execution_count": null,
   "id": "8b306bdf",
   "metadata": {},
   "outputs": [],
   "source": []
  },
  {
   "cell_type": "code",
   "execution_count": 27,
   "id": "e46dee47",
   "metadata": {},
   "outputs": [
    {
     "data": {
      "text/plain": [
       "Biseccao (generic function with 1 method)"
      ]
     },
     "execution_count": 27,
     "metadata": {},
     "output_type": "execute_result"
    }
   ],
   "source": [
    "function Biseccao(a,b,tol,nmaxiter)\n",
    "   \n",
    "    # Testa para ver se o intervalo inicial é válido\n",
    "    if f(a)*f(b) >= 0\n",
    "        println(\"Este intervalo não contem uma raiz\")\n",
    "        return Nothing\n",
    "    end\n",
    "    \n",
    "    # Executa a divisão de intervalo até o número máximo de\n",
    "    # iterações ou até a convergência\n",
    "    for n=1:nmaxiter\n",
    "        \n",
    "        # Calcula o ponto médio do intervalo\n",
    "        c = (a+b)/2\n",
    "        \n",
    "        # Testa pela tolerância do intervalo\n",
    "        if abs(b-a) < tol\n",
    "            \n",
    "            # Retorna o ponto médio do intervalo\n",
    "            return c\n",
    "            \n",
    "        end #if \n",
    "        \n",
    "        println(\"Iteração \",n, \"[\",a,\",\",b,\"]\")\n",
    "        println(abs(b-a))\n",
    "        \n",
    "        # Testa pela troca de sinal\n",
    "        if f(a)*f(c) < 0.0\n",
    "            b = c\n",
    "        else\n",
    "            a = c\n",
    "        end\n",
    "        \n",
    "    end #n\n",
    "    \n",
    "    # Se chegamos aqui, então a tolerância não foi atingida\n",
    "    println(\"A tolerância não foi obtida. Devolvendo o ponto médio do intervalo\")\n",
    "    return (a+b)/2\n",
    "    \n",
    "end"
   ]
  },
  {
   "cell_type": "code",
   "execution_count": 28,
   "id": "25749e65",
   "metadata": {},
   "outputs": [
    {
     "name": "stdout",
     "output_type": "stream",
     "text": [
      "Iteração 1[0.2,1.0]\n",
      "0.8\n",
      "Iteração 2[0.6,1.0]\n",
      "0.4\n",
      "Iteração 3[0.6,0.8]\n",
      "0.20000000000000007\n",
      "Iteração 4[0.7,0.8]\n",
      "0.10000000000000009\n",
      "Iteração 5[0.7,0.75]\n",
      "0.050000000000000044\n",
      "Iteração 6[0.725,0.75]\n",
      "0.025000000000000022\n",
      "Iteração 7[0.7375,0.75]\n",
      "0.012499999999999956\n",
      "Iteração 8[0.7375,0.74375]\n",
      "0.006249999999999978\n",
      "Iteração 9[0.7375,0.7406250000000001]\n",
      "0.0031250000000000444\n",
      "Iteração 10[0.7390625000000001,0.7406250000000001]\n",
      "0.0015625000000000222\n",
      "Iteração 11[0.7390625000000001,0.7398437500000001]\n",
      "0.0007812500000000666\n",
      "Iteração 12[0.7390625000000001,0.739453125]\n",
      "0.0003906249999999778\n",
      "Iteração 13[0.7390625000000001,0.7392578125]\n",
      "0.0001953124999999334\n",
      "Iteração 14[0.7390625000000001,0.7391601562500001]\n",
      "9.76562500000222e-5\n",
      "Iteração 15[0.7390625000000001,0.7391113281250001]\n",
      "4.882812500006661e-5\n",
      "Iteração 16[0.7390625000000001,0.7390869140625]\n",
      "2.4414062499977796e-5\n",
      "Iteração 17[0.73907470703125,0.7390869140625]\n",
      "1.2207031250044409e-5\n",
      "Iteração 18[0.739080810546875,0.7390869140625]\n",
      "6.1035156250222045e-6\n",
      "Iteração 19[0.7390838623046876,0.7390869140625]\n",
      "3.051757812455591e-6\n",
      "Iteração 20[0.7390838623046876,0.7390853881835938]\n",
      "1.5258789062277955e-6\n"
     ]
    },
    {
     "data": {
      "text/plain": [
       "0.7390850067138672"
      ]
     },
     "execution_count": 28,
     "metadata": {},
     "output_type": "execute_result"
    }
   ],
   "source": [
    "Biseccao(0.2,1.0,1E-6,100)"
   ]
  },
  {
   "cell_type": "code",
   "execution_count": 29,
   "id": "89371c59",
   "metadata": {},
   "outputs": [
    {
     "data": {
      "text/plain": [
       "RegulaFalsi (generic function with 1 method)"
      ]
     },
     "execution_count": 29,
     "metadata": {},
     "output_type": "execute_result"
    }
   ],
   "source": [
    "function RegulaFalsi(a,b,tol,nmaxiter)\n",
    "   \n",
    "    # Testa para ver se o intervalo inicial é válido\n",
    "    if f(a)*f(b) >= 0\n",
    "        println(\"Este intervalo não contem uma raiz\")\n",
    "        return Nothing\n",
    "    end\n",
    "    \n",
    "    # Executa a divisão de intervalo até o número máximo de\n",
    "    # iterações ou até a convergência\n",
    "    c = 0.0\n",
    "    for n=1:nmaxiter\n",
    "        \n",
    "        # Calcula o ponto médio do intervalo\n",
    "        fab = f(a)/f(b)\n",
    "        cn = a - (b-a)*(fab)/(1-fab)\n",
    "        \n",
    "        println(abs(cn-c))\n",
    "        \n",
    "        # Testa pela tolerância do intervalo\n",
    "        if abs(cn-c) < tol\n",
    "            \n",
    "            # Retorna o ponto médio do intervalo\n",
    "            return cn\n",
    "            \n",
    "        end #if \n",
    "        \n",
    "        # Atualiza o ponto c\n",
    "        c = cn\n",
    "        \n",
    "        println(\"Iteração \",n, \"[\",a,\",\",b,\"], \",c)\n",
    "        \n",
    "        # Testa pela troca de sinal\n",
    "        if f(a)*f(c) < 0.0\n",
    "            b = c\n",
    "        else\n",
    "            a = c\n",
    "        end\n",
    "        \n",
    "    end #n\n",
    "    \n",
    "    # Se chegamos aqui, então a tolerância não foi atingida\n",
    "    println(\"A tolerância não foi obtida. Devolvendo o ponto médio do intervalo\")\n",
    "    return c\n",
    "    \n",
    "end"
   ]
  },
  {
   "cell_type": "code",
   "execution_count": 30,
   "id": "4a52bcb8",
   "metadata": {},
   "outputs": [
    {
     "name": "stdout",
     "output_type": "stream",
     "text": [
      "0.7033644511144075\n",
      "Iteração 1[0.2,1.0], 0.7033644511144075\n",
      "0.03389621469177184\n",
      "Iteração 2[0.7033644511144075,1.0], 0.7372606658061793\n",
      "0.001732984020464623\n",
      "Iteração 3[0.7372606658061793,1.0], 0.738993649826644\n",
      "8.690052225623912e-5\n",
      "Iteração 4[0.738993649826644,1.0], 0.7390805503489002\n",
      "4.35329818082586e-6\n",
      "Iteração 5[0.7390805503489002,1.0], 0.739084903647081\n",
      "2.1806842531724158e-7\n"
     ]
    },
    {
     "data": {
      "text/plain": [
       "0.7390851217155063"
      ]
     },
     "execution_count": 30,
     "metadata": {},
     "output_type": "execute_result"
    }
   ],
   "source": [
    "RegulaFalsi(0.2,1.0,1E-6,100)"
   ]
  },
  {
   "cell_type": "code",
   "execution_count": 31,
   "id": "e22bd7d3",
   "metadata": {},
   "outputs": [
    {
     "data": {
      "text/plain": [
       "NewtonRaphson (generic function with 1 method)"
      ]
     },
     "execution_count": 31,
     "metadata": {},
     "output_type": "execute_result"
    }
   ],
   "source": [
    "function NewtonRaphson(x,tol,nmaxiter)\n",
    "    \n",
    "    for n=0:nmaxiter\n",
    "        \n",
    "        # Calcula a estimativa da raiz\n",
    "        xnm = x - f(x)/df(x)\n",
    "        \n",
    "        println(\"Iteração \",n, \" \",x,\" \",xnm)\n",
    "        println(abs(xnm-x))\n",
    "            \n",
    "        # Testa pela tolerância do intervalo entre as \n",
    "        # estimativas de raiz\n",
    "        if abs(xnm-x)< tol\n",
    "            return xnm\n",
    "        end\n",
    "        \n",
    "        # Atualiza a raiz atual\n",
    "        x = xnm\n",
    "        \n",
    "    end #n\n",
    "    \n",
    "    # Se chegamos aqui, não atingimos a tolerância\n",
    "   println(\"A tolerância não foi obtida. Devolvendo a ultima raiz calculada\")\n",
    "    return x\n",
    "  \n",
    "    \n",
    "end"
   ]
  },
  {
   "cell_type": "code",
   "execution_count": 33,
   "id": "20f9853b",
   "metadata": {},
   "outputs": [
    {
     "name": "stdout",
     "output_type": "stream",
     "text": [
      "Iteração 0 0.2 0.8507771224311163\n",
      "0.6507771224311163\n",
      "Iteração 1 0.8507771224311163 0.7415301934692623\n",
      "0.10924692896185395\n",
      "Iteração 2 0.7415301934692623 0.7390864498772124\n",
      "0.0024437435920499073\n",
      "Iteração 3 0.7390864498772124 0.7390851332155435\n",
      "1.3166616689153088e-6\n",
      "Iteração 4 0.7390851332155435 0.7390851332151607\n",
      "3.82804898890754e-13\n"
     ]
    },
    {
     "data": {
      "text/plain": [
       "0.7390851332151607"
      ]
     },
     "execution_count": 33,
     "metadata": {},
     "output_type": "execute_result"
    }
   ],
   "source": [
    "NewtonRaphson(0.2,1E-6,100)"
   ]
  },
  {
   "cell_type": "code",
   "execution_count": null,
   "id": "623e5dee",
   "metadata": {},
   "outputs": [],
   "source": []
  }
 ],
 "metadata": {
  "kernelspec": {
   "display_name": "Julia 1.10.0-DEV",
   "language": "julia",
   "name": "julia-1.10"
  },
  "language_info": {
   "file_extension": ".jl",
   "mimetype": "application/julia",
   "name": "julia",
   "version": "1.10.0"
  }
 },
 "nbformat": 4,
 "nbformat_minor": 5
}
