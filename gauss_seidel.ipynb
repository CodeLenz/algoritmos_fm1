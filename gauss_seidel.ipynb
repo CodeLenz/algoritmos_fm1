{
 "cells": [
  {
   "cell_type": "code",
   "execution_count": 15,
   "id": "1e151344",
   "metadata": {},
   "outputs": [],
   "source": [
    "using LinearAlgebra"
   ]
  },
  {
   "cell_type": "code",
   "execution_count": 26,
   "id": "caff3a43",
   "metadata": {},
   "outputs": [
    {
     "data": {
      "text/plain": [
       "Gauss_Seidel (generic function with 1 method)"
      ]
     },
     "execution_count": 26,
     "metadata": {},
     "output_type": "execute_result"
    }
   ],
   "source": [
    "function Gauss_Seidel(A,x,b,n,tol,nmaxiter)\n",
    "    xp = zeros(n)\n",
    "    for k=0:nmaxiter\n",
    "        norma = 0.0\n",
    "        for i=1:n\n",
    "            somatorio = 0.0\n",
    "            for j=1:i-1\n",
    "                somatorio = somatorio + A[i,j]*xp[j]\n",
    "            end\n",
    "            for j=i+1:n\n",
    "                somatorio = somatorio + A[i,j]*x[j]\n",
    "            end\n",
    "            xp[i] = (1.0/A[i,i])*(b[i]-somatorio)\n",
    "            norma = norma + (x[i]-xp[i])^2\n",
    "        end\n",
    "        if sqrt(norma) <= tol \n",
    "            println(\"Norma foi atingida \",norma,\" iteração \",k)\n",
    "            break\n",
    "        end\n",
    "        # Copia xp para x\n",
    "        x .= xp\n",
    "    end #k\n",
    "end"
   ]
  },
  {
   "cell_type": "code",
   "execution_count": 27,
   "id": "96116003",
   "metadata": {},
   "outputs": [
    {
     "data": {
      "text/plain": [
       "3×3 Matrix{Float64}:\n",
       " 10.0  1.0  1.0\n",
       "  2.0  7.0  0.0\n",
       "  1.0  1.0  8.0"
      ]
     },
     "execution_count": 27,
     "metadata": {},
     "output_type": "execute_result"
    }
   ],
   "source": [
    "A = 1.0*[10 1 1 ; 2 7 0 ; 1 1 8]"
   ]
  },
  {
   "cell_type": "code",
   "execution_count": 28,
   "id": "3bcc64ad",
   "metadata": {},
   "outputs": [
    {
     "data": {
      "text/plain": [
       "3-element Vector{Float64}:\n",
       " 1.0\n",
       " 1.0\n",
       " 1.0"
      ]
     },
     "execution_count": 28,
     "metadata": {},
     "output_type": "execute_result"
    }
   ],
   "source": [
    "b = ones(3)"
   ]
  },
  {
   "cell_type": "code",
   "execution_count": 29,
   "id": "95b06e0b",
   "metadata": {},
   "outputs": [
    {
     "data": {
      "text/plain": [
       "3-element Vector{Float64}:\n",
       " 0.07792207792207792\n",
       " 0.12059369202226347\n",
       " 0.10018552875695734"
      ]
     },
     "execution_count": 29,
     "metadata": {},
     "output_type": "execute_result"
    }
   ],
   "source": [
    "A\\b"
   ]
  },
  {
   "cell_type": "code",
   "execution_count": 30,
   "id": "35a391ab",
   "metadata": {},
   "outputs": [
    {
     "name": "stdout",
     "output_type": "stream",
     "text": [
      "Norma foi atingida 8.88623289934919e-11 iteração 4\n"
     ]
    }
   ],
   "source": [
    "x = ones(3)\n",
    "Gauss_Seidel(A,x,b,3,1E-5,10000)"
   ]
  },
  {
   "cell_type": "code",
   "execution_count": 31,
   "id": "7deed4da",
   "metadata": {},
   "outputs": [
    {
     "data": {
      "text/plain": [
       "3-element Vector{Float64}:\n",
       " 0.0779126953125\n",
       " 0.12059637276785713\n",
       " 0.10018636648995535"
      ]
     },
     "execution_count": 31,
     "metadata": {},
     "output_type": "execute_result"
    }
   ],
   "source": [
    "x"
   ]
  },
  {
   "cell_type": "code",
   "execution_count": null,
   "id": "43a3b17e",
   "metadata": {},
   "outputs": [],
   "source": []
  }
 ],
 "metadata": {
  "kernelspec": {
   "display_name": "Julia 1.10.0-DEV",
   "language": "julia",
   "name": "julia-1.10"
  },
  "language_info": {
   "file_extension": ".jl",
   "mimetype": "application/julia",
   "name": "julia",
   "version": "1.10.0"
  }
 },
 "nbformat": 4,
 "nbformat_minor": 5
}
