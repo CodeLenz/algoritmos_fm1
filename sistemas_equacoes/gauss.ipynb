{
 "cells": [
  {
   "cell_type": "code",
   "execution_count": 3,
   "id": "f2c0ad55",
   "metadata": {},
   "outputs": [
    {
     "data": {
      "text/plain": [
       "Gauss (generic function with 1 method)"
      ]
     },
     "execution_count": 3,
     "metadata": {},
     "output_type": "execute_result"
    }
   ],
   "source": [
    "using LinearAlgebra\n",
    "#\n",
    "# Rotina Gauss:\n",
    "# Entradas: A       : Matriz\n",
    "#           b       : Vetor\n",
    "#           n       : Dimensao do sistema\n",
    "# Saidas:   b       : Solucao do sistema de equacoes\n",
    "#\n",
    "#\n",
    "function Gauss(A,b,n)\n",
    "   \n",
    "    # Variavel que armazena o produtorio dos fatores\n",
    "    dete = 1.0\n",
    "    \n",
    "    # Triangularizacao\n",
    "    for i=1:n\n",
    "\n",
    "        # Armazena o termo da diagonal principal\n",
    "        aii = A[i,i]\n",
    "\n",
    "        # Produtorio\n",
    "        dete = dete*aii\n",
    "\n",
    "        # Divide a linha por este termo\n",
    "        b[i] = b[i]/aii\n",
    "\n",
    "        # varre as colunas da linha i\n",
    "        for j=1:n\n",
    "            A[i,j] = A[i,j]/aii\n",
    "        end #j\n",
    "\n",
    "        # Varre as linhas abaixo da atual\n",
    "        for k=i+1:n\n",
    "            \n",
    "           # Termo fixo\n",
    "           aki = A[k,i]\n",
    "\n",
    "           # Corrige o termo do termo independente\n",
    "           b[k] = b[k] - aki*b[i]\n",
    "\n",
    "           # Varre as colunas da linha k\n",
    "           for j=i:n\n",
    "               A[k,j] = A[k,j] - aki*A[i,j]\n",
    "           end #j\n",
    "            \n",
    "        end#k\n",
    "        \n",
    "    end #i\n",
    "    \n",
    "    # Retrosubstituicao\n",
    "    for i=n:-1:1\n",
    "        \n",
    "        # Armazena o somatorio\n",
    "        somat = 0.0\n",
    "        for k=n:-1:i+1\n",
    "            somat = somat + A[i,k]*b[k]\n",
    "        end #k\n",
    "\n",
    "        # Obtem o valor da variavel i\n",
    "        b[i] = b[i] - somat\n",
    "        \n",
    "    end #i\n",
    "    \n",
    "    # Informa o determinante da matriz\n",
    "    println(\"Determinate da Matriz = \",dete)\n",
    "    \n",
    "    \n",
    "end"
   ]
  },
  {
   "cell_type": "code",
   "execution_count": 7,
   "id": "fda22aff",
   "metadata": {},
   "outputs": [
    {
     "data": {
      "text/plain": [
       "3×3 Matrix{Float64}:\n",
       " 2.0  4.0   1.0\n",
       " 3.0  1.0  -1.0\n",
       " 1.0  1.0   1.0"
      ]
     },
     "execution_count": 7,
     "metadata": {},
     "output_type": "execute_result"
    }
   ],
   "source": [
    "A = 1.0*[2  4  1 ;\n",
    "         3  1 -1 ;\n",
    "         1  1  1 ]"
   ]
  },
  {
   "cell_type": "code",
   "execution_count": 12,
   "id": "ea87b566",
   "metadata": {},
   "outputs": [
    {
     "data": {
      "text/plain": [
       "3-element Vector{Float64}:\n",
       " 1.0\n",
       " 2.0\n",
       " 3.0"
      ]
     },
     "execution_count": 12,
     "metadata": {},
     "output_type": "execute_result"
    }
   ],
   "source": [
    "b = [1.0;2.0;3.0]\n",
    "bc = copy(b)"
   ]
  },
  {
   "cell_type": "code",
   "execution_count": 13,
   "id": "a4f1ee25",
   "metadata": {},
   "outputs": [
    {
     "name": "stdout",
     "output_type": "stream",
     "text": [
      "Determinate da Matriz = 1.0\n"
     ]
    },
    {
     "data": {
      "text/plain": [
       "3-element Vector{Float64}:\n",
       " -1.5\n",
       "  0.5\n",
       "  3.0"
      ]
     },
     "execution_count": 13,
     "metadata": {},
     "output_type": "execute_result"
    }
   ],
   "source": [
    "Gauss(A,b,3)"
   ]
  },
  {
   "cell_type": "code",
   "execution_count": 14,
   "id": "051b3338",
   "metadata": {},
   "outputs": [
    {
     "data": {
      "text/plain": [
       "3-element Vector{Float64}:\n",
       " 0.0\n",
       " 0.0\n",
       " 0.0"
      ]
     },
     "execution_count": 14,
     "metadata": {},
     "output_type": "execute_result"
    }
   ],
   "source": [
    "A*b - bc"
   ]
  },
  {
   "cell_type": "code",
   "execution_count": 15,
   "id": "a2fa461e",
   "metadata": {},
   "outputs": [
    {
     "data": {
      "text/plain": [
       "1.0"
      ]
     },
     "execution_count": 15,
     "metadata": {},
     "output_type": "execute_result"
    }
   ],
   "source": [
    "det(A)"
   ]
  },
  {
   "cell_type": "code",
   "execution_count": null,
   "id": "339c8325",
   "metadata": {},
   "outputs": [],
   "source": []
  }
 ],
 "metadata": {
  "kernelspec": {
   "display_name": "Julia 1.10.0-DEV",
   "language": "julia",
   "name": "julia-1.10"
  },
  "language_info": {
   "file_extension": ".jl",
   "mimetype": "application/julia",
   "name": "julia",
   "version": "1.10.0"
  }
 },
 "nbformat": 4,
 "nbformat_minor": 5
}
