{
 "cells": [
  {
   "cell_type": "code",
   "execution_count": 2,
   "id": "02cade70",
   "metadata": {},
   "outputs": [],
   "source": [
    "using LinearAlgebra"
   ]
  },
  {
   "cell_type": "code",
   "execution_count": 11,
   "id": "338ebd6f",
   "metadata": {},
   "outputs": [
    {
     "data": {
      "text/plain": [
       "Inversa_Gauss (generic function with 1 method)"
      ]
     },
     "execution_count": 11,
     "metadata": {},
     "output_type": "execute_result"
    }
   ],
   "source": [
    "#\n",
    "# Rotina Inversa_Gauss:\n",
    "# Entradas: A       : Matriz\n",
    "#           n       : Dimensao do sistema\n",
    "# Saidas:   I       : Solucao do sistema de equacoes\n",
    "#\n",
    "# Depende: Rotina Identidade(n) \n",
    "#\n",
    "function Inversa_Gauss(A,n)\n",
    "\n",
    "    # Monta uma matriz Identidade de dimensao n\n",
    "    Id = 1.0*Array(I(n))\n",
    "      \n",
    "    # Faz uma cópia da matriz A\n",
    "    Ac = copy(A)\n",
    "    \n",
    "    # Triangularizacao\n",
    "    for i=1:n\n",
    "\n",
    "        # Armazena o termo da diagonal principal\n",
    "        aii = Ac[i,i]\n",
    "\n",
    "        # Divide as linhas de I por este termo\n",
    "        for j=1:n\n",
    "            Id[i,j] = Id[i,j]/aii\n",
    "        end #j\n",
    "\n",
    "        # Varre as colunas da linha i\n",
    "        for j=1:n\n",
    "            Ac[i,j] = Ac[i,j]/aii\n",
    "        end #j\n",
    "\n",
    "        # Varre as linhas abaixo da atual\n",
    "        for k=i+1:n\n",
    "            \n",
    "            # Termo fixo\n",
    "            aki = Ac[k,i]\n",
    "\n",
    "            # Corrige o termo do termo independente\n",
    "            for j=1:n\n",
    "                Id[k,j] = Id[k,j] - aki*Id[i,j]\n",
    "            end #j\n",
    "\n",
    "            # Varre as colunas da linha k\n",
    "            for j=i:n\n",
    "                Ac[k,j] = Ac[k,j] - aki*Ac[i,j]\n",
    "            end #j\n",
    "        end #k\n",
    "    end #i\n",
    "\n",
    "    # Retrosubstituicao\n",
    "    for i=n-1:-1:1\n",
    "        for j=1:n\n",
    "            \n",
    "            # Armazena o somatorio\n",
    "            somat = 0.0\n",
    "            for k=n:-1:i+1\n",
    "                somat = somat + Ac[i,k]*Id[k,j]\n",
    "            end #k\n",
    "            \n",
    "            # Obtem o valor da variavel i\n",
    "            Id[i,j] = Id[i,j] - somat\n",
    "        end #j\n",
    "        \n",
    "    end #i\n",
    "    \n",
    "    return Id\n",
    "    \n",
    "end"
   ]
  },
  {
   "cell_type": "code",
   "execution_count": 12,
   "id": "9f9c7f5b",
   "metadata": {},
   "outputs": [
    {
     "data": {
      "text/plain": [
       "3×3 Matrix{Float64}:\n",
       " 2.0  4.0   1.0\n",
       " 3.0  1.0  -1.0\n",
       " 1.0  1.0   1.0"
      ]
     },
     "execution_count": 12,
     "metadata": {},
     "output_type": "execute_result"
    }
   ],
   "source": [
    "A = 1.0*[2  4  1 ;\n",
    "         3  1 -1 ;\n",
    "         1  1  1 ]"
   ]
  },
  {
   "cell_type": "code",
   "execution_count": 13,
   "id": "cc6e1a28",
   "metadata": {},
   "outputs": [
    {
     "data": {
      "text/plain": [
       "3×3 Matrix{Float64}:\n",
       " -0.2   0.3   0.5\n",
       "  0.4  -0.1  -0.5\n",
       " -0.2  -0.2   1.0"
      ]
     },
     "execution_count": 13,
     "metadata": {},
     "output_type": "execute_result"
    }
   ],
   "source": [
    "Ai=  Inversa_Gauss(A,3)"
   ]
  },
  {
   "cell_type": "code",
   "execution_count": 14,
   "id": "3faa5dfb",
   "metadata": {},
   "outputs": [
    {
     "data": {
      "text/plain": [
       "3×3 Matrix{Float64}:\n",
       "  1.0          5.55112e-17  0.0\n",
       " -1.66533e-16  1.0          0.0\n",
       " -5.55112e-17  2.77556e-17  1.0"
      ]
     },
     "execution_count": 14,
     "metadata": {},
     "output_type": "execute_result"
    }
   ],
   "source": [
    "A*Ai"
   ]
  },
  {
   "cell_type": "code",
   "execution_count": null,
   "id": "f3d076ba",
   "metadata": {},
   "outputs": [],
   "source": []
  }
 ],
 "metadata": {
  "kernelspec": {
   "display_name": "Julia 1.10.0-DEV",
   "language": "julia",
   "name": "julia-1.10"
  },
  "language_info": {
   "file_extension": ".jl",
   "mimetype": "application/julia",
   "name": "julia",
   "version": "1.10.0"
  }
 },
 "nbformat": 4,
 "nbformat_minor": 5
}
