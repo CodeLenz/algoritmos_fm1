{
 "cells": [
  {
   "cell_type": "code",
   "execution_count": 1,
   "id": "b0b05bf5",
   "metadata": {},
   "outputs": [],
   "source": [
    "using LinearAlgebra"
   ]
  },
  {
   "cell_type": "code",
   "execution_count": 2,
   "id": "06f1268f",
   "metadata": {},
   "outputs": [
    {
     "data": {
      "text/plain": [
       "Cholesky! (generic function with 1 method)"
      ]
     },
     "execution_count": 2,
     "metadata": {},
     "output_type": "execute_result"
    }
   ],
   "source": [
    "#\n",
    "# Rotina Cholesky:\n",
    "# Entradas: A       : Matriz\n",
    "#           n       : Dimensao do sistema\n",
    "# Saidas:   A       : U\n",
    "#\n",
    "#\n",
    "function Cholesky!(A,n)\n",
    "    #\n",
    "    # Decompoe a matriz A usando Cholesky\n",
    "    #\n",
    "    for i=1:n\n",
    "        for j=i:n\n",
    "            \n",
    "            # Realiza o somatorio\n",
    "            soma = A[i,j]\n",
    "            \n",
    "            for k=1:i-1 \n",
    "                soma = soma - A[k,i]*A[k,j]\n",
    "            end #k\n",
    "\n",
    "            # Verifica se estamos na diagonal\n",
    "            if j==i \n",
    "                A[i,j] = sqrt(soma)\n",
    "            else\n",
    "                A[i,j] = soma / A[i,i]\n",
    "            end\n",
    "            \n",
    "        end #j\n",
    "    end #i\n",
    "\n",
    "end"
   ]
  },
  {
   "cell_type": "code",
   "execution_count": 3,
   "id": "500186b2",
   "metadata": {},
   "outputs": [
    {
     "data": {
      "text/plain": [
       "3×3 Matrix{Float64}:\n",
       " 2.0  1.0   1.0\n",
       " 1.0  8.0   1.0\n",
       " 1.0  1.0  10.0"
      ]
     },
     "execution_count": 3,
     "metadata": {},
     "output_type": "execute_result"
    }
   ],
   "source": [
    "A = 1.0*[2  1  1 ;\n",
    "         1  8  1 ;\n",
    "         1  1 10 ]"
   ]
  },
  {
   "cell_type": "code",
   "execution_count": 4,
   "id": "82d0f79e",
   "metadata": {},
   "outputs": [],
   "source": [
    "Cholesky!(A,3)"
   ]
  },
  {
   "cell_type": "code",
   "execution_count": 5,
   "id": "251d06c4",
   "metadata": {},
   "outputs": [
    {
     "data": {
      "text/plain": [
       "3×3 Matrix{Float64}:\n",
       " 1.41421  0.707107  0.707107\n",
       " 1.0      2.73861   0.182574\n",
       " 1.0      1.0       3.07679"
      ]
     },
     "execution_count": 5,
     "metadata": {},
     "output_type": "execute_result"
    }
   ],
   "source": [
    "A"
   ]
  },
  {
   "cell_type": "code",
   "execution_count": 6,
   "id": "a732a731",
   "metadata": {},
   "outputs": [
    {
     "data": {
      "text/plain": [
       "Soluciona_por_Cholesky! (generic function with 1 method)"
      ]
     },
     "execution_count": 6,
     "metadata": {},
     "output_type": "execute_result"
    }
   ],
   "source": [
    "#\n",
    "# Rotina Soluciona_por_Cholesky:\n",
    "# Entradas: A       : Matriz simetrica e positivo definida\n",
    "#           b       : vetor\n",
    "#           n       : Dimensao do sistema\n",
    "# Saidas:   b       : solucao do sistema\n",
    "#\n",
    "# Depende: Cholesky!(A,n)\n",
    "#          zeros(n)\n",
    "#\n",
    "function Soluciona_por_Cholesky!(A,b,n)\n",
    "\n",
    "    # Decompoe a matriz A em U'U\n",
    "    Cholesky!(A,n)\n",
    "\n",
    "    # Soluciona para y\n",
    "    y = zeros(n)\n",
    "    for i=1:n\n",
    "        soma = 0.0\n",
    "        for k=1:i-1\n",
    "            soma = soma + A[k,i]*y[k]\n",
    "        end #k\n",
    "        y[i] = ( b[i] - soma ) / A[i,i]\n",
    "    end #i\n",
    "\n",
    "    # Soluciona para x (sobre b)\n",
    "    for i=n:-1:1\n",
    "        soma = 0.0\n",
    "        for k=i+1:n\n",
    "            soma = soma + A[i,k]*b[k]\n",
    "        end #k\n",
    "        b[i] = (y[i] - soma) / A[i,i]\n",
    "    end #i\n",
    "end"
   ]
  },
  {
   "cell_type": "code",
   "execution_count": 11,
   "id": "15cb884d",
   "metadata": {},
   "outputs": [
    {
     "data": {
      "text/plain": [
       "3×3 Matrix{Float64}:\n",
       " 2.0  1.0   1.0\n",
       " 1.0  8.0   1.0\n",
       " 1.0  1.0  10.0"
      ]
     },
     "execution_count": 11,
     "metadata": {},
     "output_type": "execute_result"
    }
   ],
   "source": [
    "A = 1.0*[2  1  1 ;\n",
    "         1  8  1 ;\n",
    "         1  1 10 ]"
   ]
  },
  {
   "cell_type": "code",
   "execution_count": 12,
   "id": "498d233c",
   "metadata": {},
   "outputs": [
    {
     "data": {
      "text/plain": [
       "3-element Vector{Float64}:\n",
       " 1.0\n",
       " 2.0\n",
       " 3.0"
      ]
     },
     "execution_count": 12,
     "metadata": {},
     "output_type": "execute_result"
    }
   ],
   "source": [
    "b = [1.0;2.0;3.0]"
   ]
  },
  {
   "cell_type": "code",
   "execution_count": 13,
   "id": "67c79605",
   "metadata": {},
   "outputs": [
    {
     "data": {
      "text/plain": [
       "3-element Vector{Float64}:\n",
       " 0.28169014084507044\n",
       " 0.18309859154929578\n",
       " 0.2535211267605634"
      ]
     },
     "execution_count": 13,
     "metadata": {},
     "output_type": "execute_result"
    }
   ],
   "source": [
    "referencia = A\\b"
   ]
  },
  {
   "cell_type": "code",
   "execution_count": 14,
   "id": "c8aef820",
   "metadata": {},
   "outputs": [],
   "source": [
    "Soluciona_por_Cholesky!(A,b,3)"
   ]
  },
  {
   "cell_type": "code",
   "execution_count": 10,
   "id": "e98224a9",
   "metadata": {},
   "outputs": [
    {
     "data": {
      "text/plain": [
       "3-element Vector{Float64}:\n",
       " 0.2816901408450704\n",
       " 0.18309859154929578\n",
       " 0.25352112676056343"
      ]
     },
     "execution_count": 10,
     "metadata": {},
     "output_type": "execute_result"
    }
   ],
   "source": [
    "b"
   ]
  },
  {
   "cell_type": "code",
   "execution_count": null,
   "id": "d72ee289",
   "metadata": {},
   "outputs": [],
   "source": []
  }
 ],
 "metadata": {
  "kernelspec": {
   "display_name": "Julia 1.10.0-DEV",
   "language": "julia",
   "name": "julia-1.10"
  },
  "language_info": {
   "file_extension": ".jl",
   "mimetype": "application/julia",
   "name": "julia",
   "version": "1.10.0"
  }
 },
 "nbformat": 4,
 "nbformat_minor": 5
}
