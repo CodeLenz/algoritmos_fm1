{
 "cells": [
  {
   "cell_type": "code",
   "execution_count": 1,
   "id": "e28844e0",
   "metadata": {},
   "outputs": [],
   "source": [
    "using LinearAlgebra, NBInclude"
   ]
  },
  {
   "cell_type": "code",
   "execution_count": 2,
   "id": "40a2bf67",
   "metadata": {},
   "outputs": [],
   "source": [
    "#\n",
    "# Carrega o módulo que tem a função Gramm\n",
    "#\n",
    "@nbinclude(\"gramm.ipynb\";counters=2);"
   ]
  },
  {
   "cell_type": "code",
   "execution_count": 7,
   "id": "bd384b35",
   "metadata": {},
   "outputs": [
    {
     "data": {
      "text/plain": [
       "QR (generic function with 1 method)"
      ]
     },
     "execution_count": 7,
     "metadata": {},
     "output_type": "execute_result"
    }
   ],
   "source": [
    "#\n",
    "# Decomposição QR de uma matriz A\n",
    "# de dimensão n × n com uma tolerância δ\n",
    "#\n",
    "function QR(A,n,δ)\n",
    "    \n",
    "    # Inicializa a matriz Qt\n",
    "    Qt = Array(1.0*I(n))\n",
    "        \n",
    "    # Calcula a primeira ortogonalização\n",
    "    Q = Gramm(A,n)\n",
    "    \n",
    "    # Calcula o traço da Q\n",
    "    traco = tr(abs.(Q))\n",
    "        \n",
    "    while abs(traco-n) > δ\n",
    "        \n",
    "        # Ortogonaliza a A atual\n",
    "        Q .= Gramm(A,n)\n",
    "        \n",
    "        # Gera A próxima estimativa da A\n",
    "        # (sem inverter a matriz...olha o Chuck Noris!)\n",
    "        A = Q\\(A*Q)\n",
    "        \n",
    "        # Acumula a mudança de base\n",
    "        Qt .= Qt*Q\n",
    "        \n",
    "        # Calcula o novo traço\n",
    "        traco = tr(abs.(Q))\n",
    "            \n",
    "    end\n",
    "     \n",
    "    return A, Qt\n",
    "end\n",
    "    \n",
    "    \n"
   ]
  },
  {
   "cell_type": "code",
   "execution_count": 20,
   "id": "fce823e5",
   "metadata": {},
   "outputs": [
    {
     "data": {
      "text/plain": [
       "5×5 Matrix{Float64}:\n",
       " 0.473633  1.83919   0.921218  1.09813  0.541599\n",
       " 1.83919   1.14102   0.142942  1.6985   1.00475\n",
       " 0.921218  0.142942  0.927047  1.40852  0.904623\n",
       " 1.09813   1.6985    1.40852   1.68087  1.12776\n",
       " 0.541599  1.00475   0.904623  1.12776  0.161104"
      ]
     },
     "execution_count": 20,
     "metadata": {},
     "output_type": "execute_result"
    }
   ],
   "source": [
    "#\n",
    "# Vamos gerar uma matriz aleatória de dimensão \n",
    "# N e vamos garantir que é simétrica\n",
    "#\n",
    "N = 5\n",
    "A = rand(5,5);\n",
    "A = A + A'"
   ]
  },
  {
   "cell_type": "code",
   "execution_count": 25,
   "id": "259c54a1",
   "metadata": {},
   "outputs": [],
   "source": [
    "autovalores, autovetores = QR(A,N,1E-6);"
   ]
  },
  {
   "cell_type": "code",
   "execution_count": 26,
   "id": "5548edf2",
   "metadata": {},
   "outputs": [
    {
     "data": {
      "text/plain": [
       "5×5 Matrix{Float64}:\n",
       "  5.40463       3.13349e-9    2.1437e-12   -1.80105e-15   1.63332e-15\n",
       "  3.13349e-9   -1.49654      -0.000712304  -1.02058e-10   8.22528e-15\n",
       "  2.14381e-12  -0.000712304   1.01487      -5.05918e-8   -1.24675e-15\n",
       " -8.30631e-20  -1.02057e-10  -5.05918e-8   -0.428958      1.31868e-10\n",
       "  1.20281e-28   7.63733e-20   3.81033e-17   1.31868e-10  -0.110326"
      ]
     },
     "execution_count": 26,
     "metadata": {},
     "output_type": "execute_result"
    }
   ],
   "source": [
    "autovalores"
   ]
  },
  {
   "cell_type": "code",
   "execution_count": 27,
   "id": "89614337",
   "metadata": {},
   "outputs": [
    {
     "data": {
      "text/plain": [
       "5×5 Matrix{Float64}:\n",
       " 0.419131   0.575482  -0.266923  -0.139005    0.634492\n",
       " 0.502326  -0.620787  -0.594287   0.0954478   0.00212862\n",
       " 0.352039  -0.408217   0.720892  -0.0289448   0.434632\n",
       " 0.584619   0.221493   0.187872  -0.452879   -0.607261\n",
       " 0.326018   0.260275   0.143507   0.875003   -0.19936"
      ]
     },
     "execution_count": 27,
     "metadata": {},
     "output_type": "execute_result"
    }
   ],
   "source": [
    "autovetores"
   ]
  },
  {
   "cell_type": "code",
   "execution_count": 24,
   "id": "d327d2c4",
   "metadata": {},
   "outputs": [
    {
     "data": {
      "text/plain": [
       "Eigen{Float64, Float64, Matrix{Float64}, Vector{Float64}}\n",
       "values:\n",
       "5-element Vector{Float64}:\n",
       " -1.496539423633595\n",
       " -0.4289576583716972\n",
       " -0.11032602663654534\n",
       "  1.014865397609943\n",
       "  5.404627958913533\n",
       "vectors:\n",
       "5×5 Matrix{Float64}:\n",
       "  0.575406  -0.139005    0.634492    -0.267086  -0.419131\n",
       " -0.620956   0.0954478   0.00212862  -0.594111  -0.502326\n",
       " -0.408013  -0.0289448   0.434632     0.721007  -0.352039\n",
       "  0.221547  -0.452879   -0.607261     0.187809  -0.584619\n",
       "  0.260316   0.875003   -0.19936      0.143433  -0.326018"
      ]
     },
     "execution_count": 24,
     "metadata": {},
     "output_type": "execute_result"
    }
   ],
   "source": [
    "#\n",
    "# Vamos calcular com a função do Julia para \n",
    "# verificar\n",
    "#\n",
    "eigen(A)"
   ]
  },
  {
   "cell_type": "code",
   "execution_count": 30,
   "id": "cb65f167",
   "metadata": {},
   "outputs": [
    {
     "data": {
      "text/plain": [
       "5×5 Matrix{Float64}:\n",
       " 5.40463       3.13349e-9    2.14316e-12  -1.23429e-15   7.11215e-16\n",
       " 3.13348e-9   -1.49654      -0.000712304  -1.02058e-10   8.24581e-15\n",
       " 2.14295e-12  -0.000712304   1.01487      -5.05918e-8   -1.28879e-15\n",
       " 1.23735e-15  -1.02057e-10  -5.05918e-8   -0.428958      1.31868e-10\n",
       " 2.06236e-16  -1.90244e-16   7.13921e-17   1.31868e-10  -0.110326"
      ]
     },
     "execution_count": 30,
     "metadata": {},
     "output_type": "execute_result"
    }
   ],
   "source": [
    "# Por fim, vamos verificar se os autovetores geram a \n",
    "# matriz diagonalizada\n",
    "inv(autovetores)*A*(autovetores)"
   ]
  },
  {
   "cell_type": "code",
   "execution_count": 31,
   "id": "d422f93b",
   "metadata": {},
   "outputs": [
    {
     "data": {
      "text/plain": [
       "5×5 Matrix{Float64}:\n",
       " 0.473633  1.83919   0.921218  1.09813  0.541599\n",
       " 1.83919   1.14102   0.142942  1.6985   1.00475\n",
       " 0.921218  0.142942  0.927047  1.40852  0.904623\n",
       " 1.09813   1.6985    1.40852   1.68087  1.12776\n",
       " 0.541599  1.00475   0.904623  1.12776  0.161104"
      ]
     },
     "execution_count": 31,
     "metadata": {},
     "output_type": "execute_result"
    }
   ],
   "source": [
    "#\n",
    "# E o inverso tem que dar a matriz A\n",
    "#\n",
    "autovetores*autovalores*inv(autovetores)"
   ]
  },
  {
   "cell_type": "code",
   "execution_count": null,
   "id": "a24a260f",
   "metadata": {},
   "outputs": [],
   "source": []
  }
 ],
 "metadata": {
  "kernelspec": {
   "display_name": "Julia 1.10.0-DEV",
   "language": "julia",
   "name": "julia-1.10"
  },
  "language_info": {
   "file_extension": ".jl",
   "mimetype": "application/julia",
   "name": "julia",
   "version": "1.10.0"
  }
 },
 "nbformat": 4,
 "nbformat_minor": 5
}
