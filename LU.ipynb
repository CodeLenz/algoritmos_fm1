{
 "cells": [
  {
   "cell_type": "code",
   "execution_count": 1,
   "id": "02621758",
   "metadata": {},
   "outputs": [],
   "source": [
    "using LinearAlgebra"
   ]
  },
  {
   "cell_type": "code",
   "execution_count": 2,
   "id": "78076fbb",
   "metadata": {},
   "outputs": [
    {
     "data": {
      "text/plain": [
       "LU! (generic function with 1 method)"
      ]
     },
     "execution_count": 2,
     "metadata": {},
     "output_type": "execute_result"
    }
   ],
   "source": [
    "#\n",
    "# Rotina LU!:\n",
    "#\n",
    "# Entradas: A       : Matriz\n",
    "#           n       : Dimensao do sistema\n",
    "#\n",
    "# Saidas:   A       : LU\n",
    "#\n",
    "#\n",
    "function LU!(A,n)\n",
    "    #\n",
    "    # Decompoe a matriz A em LU\n",
    "    #\n",
    "    for i=1:n\n",
    "        for j=1:n\n",
    "            \n",
    "            # Verifica se estamos abaixo ou acima da\n",
    "            # diagonal principal\n",
    "            if j<i \n",
    "                c = j\n",
    "            else\n",
    "                c = i\n",
    "            end\n",
    "            \n",
    "            # Calcula o somatorio\n",
    "            soma = A[i,j]\n",
    "            for k=1:c-1\n",
    "                soma = soma - A[i,k]*A[k,j]\n",
    "            end #k\n",
    "            \n",
    "            # Armazena em A\n",
    "            if j<=i \n",
    "                # L\n",
    "                A[i,j] = soma\n",
    "            else\n",
    "                #U\n",
    "                A[i,j] = soma / A[i,i]\n",
    "            end\n",
    "            \n",
    "        end #j\n",
    "    end #i\n",
    "end"
   ]
  },
  {
   "cell_type": "code",
   "execution_count": 3,
   "id": "fb2ee252",
   "metadata": {},
   "outputs": [
    {
     "data": {
      "text/plain": [
       "3×3 Matrix{Float64}:\n",
       " 2.0  4.0   1.0\n",
       " 3.0  1.0  -1.0\n",
       " 1.0  1.0   1.0"
      ]
     },
     "execution_count": 3,
     "metadata": {},
     "output_type": "execute_result"
    }
   ],
   "source": [
    "A = 1.0*[2  4  1 ;\n",
    "         3  1 -1 ;\n",
    "         1  1  1 ]"
   ]
  },
  {
   "cell_type": "code",
   "execution_count": 4,
   "id": "a2b99b79",
   "metadata": {},
   "outputs": [],
   "source": [
    "LU!(A,3)"
   ]
  },
  {
   "cell_type": "code",
   "execution_count": 5,
   "id": "67ae3b67",
   "metadata": {},
   "outputs": [
    {
     "data": {
      "text/plain": [
       "3×3 Matrix{Float64}:\n",
       " 2.0   2.0  0.5\n",
       " 3.0  -5.0  0.5\n",
       " 1.0  -1.0  1.0"
      ]
     },
     "execution_count": 5,
     "metadata": {},
     "output_type": "execute_result"
    }
   ],
   "source": [
    "A"
   ]
  },
  {
   "cell_type": "code",
   "execution_count": 6,
   "id": "ca9757ef",
   "metadata": {},
   "outputs": [
    {
     "data": {
      "text/plain": [
       "Soluciona_por_LU! (generic function with 1 method)"
      ]
     },
     "execution_count": 6,
     "metadata": {},
     "output_type": "execute_result"
    }
   ],
   "source": [
    "# Rotina Soluciona_por_LU:\n",
    "#\n",
    "# Entradas: A       : Matriz\n",
    "#           b       : vetor\n",
    "#           n       : Dimensao do sistema\n",
    "# Saidas:   b       : solucao do sistema\n",
    "#\n",
    "# Depende: LU!(A,n)\n",
    "# zeros(n)\n",
    "#\n",
    "function Soluciona_por_LU!(A,b,n)\n",
    "\n",
    "    # Decompoe a matriz A em LU\n",
    "    LU!(A,n)\n",
    "\n",
    "    # Soluciona para y\n",
    "    y = zeros(n)\n",
    "    for i=1:n\n",
    "        soma = 0.0\n",
    "        for k=1:i-1 \n",
    "            soma = soma + A[i,k]*y[k]\n",
    "        end #k\n",
    "        y[i] = ( b[i] - soma ) / A[i,i]\n",
    "    end #i\n",
    "\n",
    "    # Soluciona para x, armazenando em b\n",
    "    for i=n:-1:1\n",
    "        soma = 0.0\n",
    "        for k=i+1:n\n",
    "            soma = soma + A[i,k]*b[k]\n",
    "        end #k\n",
    "        b[i] = y[i] - soma\n",
    "    end #i\n",
    "    \n",
    "end"
   ]
  },
  {
   "cell_type": "code",
   "execution_count": 7,
   "id": "3e011c3e",
   "metadata": {},
   "outputs": [
    {
     "data": {
      "text/plain": [
       "3×3 Matrix{Float64}:\n",
       " 2.0  4.0   1.0\n",
       " 3.0  1.0  -1.0\n",
       " 1.0  1.0   1.0"
      ]
     },
     "execution_count": 7,
     "metadata": {},
     "output_type": "execute_result"
    }
   ],
   "source": [
    "A = 1.0*[2  4  1 ;\n",
    "         3  1 -1 ;\n",
    "         1  1  1 ]"
   ]
  },
  {
   "cell_type": "code",
   "execution_count": 8,
   "id": "b77a4170",
   "metadata": {},
   "outputs": [
    {
     "data": {
      "text/plain": [
       "3-element Vector{Float64}:\n",
       " 1.0\n",
       " 2.0\n",
       " 3.0"
      ]
     },
     "execution_count": 8,
     "metadata": {},
     "output_type": "execute_result"
    }
   ],
   "source": [
    "b = [1.0;2.0;3.0]"
   ]
  },
  {
   "cell_type": "code",
   "execution_count": 9,
   "id": "6ac411cc",
   "metadata": {},
   "outputs": [],
   "source": [
    "Soluciona_por_LU!(A,b,3)"
   ]
  },
  {
   "cell_type": "code",
   "execution_count": 10,
   "id": "57ea6972",
   "metadata": {},
   "outputs": [
    {
     "data": {
      "text/plain": [
       "3-element Vector{Float64}:\n",
       "  1.9000000000000001\n",
       " -1.3\n",
       "  2.4"
      ]
     },
     "execution_count": 10,
     "metadata": {},
     "output_type": "execute_result"
    }
   ],
   "source": [
    "b"
   ]
  },
  {
   "cell_type": "code",
   "execution_count": null,
   "id": "0e08d29e",
   "metadata": {},
   "outputs": [],
   "source": []
  }
 ],
 "metadata": {
  "kernelspec": {
   "display_name": "Julia 1.10.0-DEV",
   "language": "julia",
   "name": "julia-1.10"
  },
  "language_info": {
   "file_extension": ".jl",
   "mimetype": "application/julia",
   "name": "julia",
   "version": "1.10.0"
  }
 },
 "nbformat": 4,
 "nbformat_minor": 5
}
