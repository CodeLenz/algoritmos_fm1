{
 "cells": [
  {
   "cell_type": "code",
   "execution_count": 1,
   "id": "cfd58241",
   "metadata": {},
   "outputs": [],
   "source": [
    "using LinearAlgebra"
   ]
  },
  {
   "cell_type": "code",
   "execution_count": 8,
   "id": "9e85b99e",
   "metadata": {},
   "outputs": [
    {
     "data": {
      "text/plain": [
       "Metodo_Potencia (generic function with 1 method)"
      ]
     },
     "execution_count": 8,
     "metadata": {},
     "output_type": "execute_result"
    }
   ],
   "source": [
    "#\n",
    "# Método da potência, para calcular o maior autovalor\n",
    "# de uma matriz A de dimensão n × n com tolerância δ\n",
    "#\n",
    "function Metodo_Potencia(A,n,δ)\n",
    "    \n",
    "    # Inicializa o autovetor\n",
    "    x = ones(n)\n",
    "    \n",
    "    # Inicializa o autovalor\n",
    "    λ = 0.0\n",
    "    \n",
    "    # Inicializa o intervalo (para convergência)\n",
    "    Δ = 1.0\n",
    "    \n",
    "    # Contador de iterações\n",
    "    cont = 0\n",
    "    \n",
    "    # Loop enquanto o intervalo for maior do que a tolerância\n",
    "    while Δ > δ\n",
    "        \n",
    "        # Estimativa do autovetor\n",
    "        xk = A*x\n",
    "        \n",
    "        # Estivativa do autovalor\n",
    "        λ_k = norm(xk)/norm(x)\n",
    "        \n",
    "        # Novo intervalo\n",
    "        Δ = abs(λ_k - λ)\n",
    "        \n",
    "        # Copia a estimativa do autovetor para x\n",
    "        x .= xk\n",
    "        \n",
    "        # Calcula a norma de x\n",
    "        nx = norm(x)\n",
    "        \n",
    "        # Normaliza a estimativa do autovetor \n",
    "        x .= (1/nx)*x\n",
    "        \n",
    "        # Atualiza a estimativa do autovalor\n",
    "        λ = λ_k\n",
    "        \n",
    "        # Atualiza o contador de iterações\n",
    "        cont += 1\n",
    "    end\n",
    "    \n",
    "    println(\"Convergência com tolerância $Δ em $cont iterações\")\n",
    "    \n",
    "    # Retorna o maior autovalor e seu autovetor\n",
    "    return λ, x\n",
    "end"
   ]
  },
  {
   "cell_type": "code",
   "execution_count": 5,
   "id": "079e1804",
   "metadata": {},
   "outputs": [
    {
     "data": {
      "text/plain": [
       "3×3 Matrix{Float64}:\n",
       "  3.0   1.0  -0.5\n",
       "  1.0   5.0  -0.3\n",
       " -0.5  -0.3   4.0"
      ]
     },
     "execution_count": 5,
     "metadata": {},
     "output_type": "execute_result"
    }
   ],
   "source": [
    "# Vamos definir uma matriz 3 × 3 para testar\n",
    "A = [3   1.0  -0.5;\n",
    "     1.0 5.0  -0.3\n",
    "    -0.5 -0.3  4.0]"
   ]
  },
  {
   "cell_type": "code",
   "execution_count": 6,
   "id": "7cb9d2bf",
   "metadata": {},
   "outputs": [
    {
     "data": {
      "text/plain": [
       "Eigen{Float64, Float64, Matrix{Float64}, Vector{Float64}}\n",
       "values:\n",
       "3-element Vector{Float64}:\n",
       " 2.5011351012663177\n",
       " 3.940078996598496\n",
       " 5.558785902135194\n",
       "vectors:\n",
       "3×3 Matrix{Float64}:\n",
       "  0.911497  -0.106641  -0.397242\n",
       " -0.336342   0.362651  -0.869113\n",
       "  0.236743   0.925803   0.294688"
      ]
     },
     "execution_count": 6,
     "metadata": {},
     "output_type": "execute_result"
    }
   ],
   "source": [
    "# Vamos utilizar o método do Julia para termos uma referência\n",
    "eigen(A)"
   ]
  },
  {
   "cell_type": "code",
   "execution_count": 9,
   "id": "276d0510",
   "metadata": {},
   "outputs": [
    {
     "name": "stdout",
     "output_type": "stream",
     "text": [
      "Convergência com tolerância 8.425880493767579e-6 em 19 iterações\n"
     ]
    },
    {
     "data": {
      "text/plain": [
       "(5.558777394873301, [0.39705409058500196, 0.8697494399621349, -0.2930596540557394])"
      ]
     },
     "execution_count": 9,
     "metadata": {},
     "output_type": "execute_result"
    }
   ],
   "source": [
    "# Agora usando o método da potência\n",
    "Metodo_Potencia(A,3,1E-5)"
   ]
  },
  {
   "cell_type": "code",
   "execution_count": null,
   "id": "1f0df489",
   "metadata": {},
   "outputs": [],
   "source": []
  }
 ],
 "metadata": {
  "kernelspec": {
   "display_name": "Julia 1.10.0-DEV",
   "language": "julia",
   "name": "julia-1.10"
  },
  "language_info": {
   "file_extension": ".jl",
   "mimetype": "application/julia",
   "name": "julia",
   "version": "1.10.0"
  }
 },
 "nbformat": 4,
 "nbformat_minor": 5
}
