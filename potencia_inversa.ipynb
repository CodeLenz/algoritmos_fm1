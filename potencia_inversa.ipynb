{
 "cells": [
  {
   "cell_type": "code",
   "execution_count": 10,
   "id": "d265fc91",
   "metadata": {},
   "outputs": [],
   "source": [
    "using LinearAlgebra"
   ]
  },
  {
   "cell_type": "code",
   "execution_count": 11,
   "id": "954738a8",
   "metadata": {},
   "outputs": [
    {
     "data": {
      "text/plain": [
       "Metodo_Potencia_Inversa (generic function with 1 method)"
      ]
     },
     "execution_count": 11,
     "metadata": {},
     "output_type": "execute_result"
    }
   ],
   "source": [
    "#\n",
    "# Método da potência inversa, para calcular o menor autovalor\n",
    "# de uma matriz A de dimensão n × n com tolerância δ\n",
    "#\n",
    "\n",
    "function  Metodo_Potencia_Inversa(A,n,δ)\n",
    "    \n",
    "    # Inicializa o autovetor\n",
    "    x = ones(n)\n",
    "    \n",
    "    # Inicializa o autovalor\n",
    "    λ = 0.0\n",
    "    \n",
    "    # Inicializa o intervalo (para convergência)\n",
    "    Δ = 1.0\n",
    "    \n",
    "    # Contador de iterações\n",
    "    cont = 0\n",
    "    \n",
    "    # Vamos fazer a decomposição LU da matriz A\n",
    "    LU = lu(A)\n",
    "    \n",
    "    # Loop enquanto o intervalo for maior do que a tolerância\n",
    "    while Δ > δ\n",
    "  \n",
    "        # Estimativa do autovetor - solução do sistema de equações\n",
    "        xk = LU\\x\n",
    "        \n",
    "        # Estimativa do autovalor\n",
    "        λ_k = norm(x)/norm(xk)\n",
    "        \n",
    "        # Estimativa do intervalo\n",
    "        Δ = abs(λ_k - λ)\n",
    "        \n",
    "        # Copia a estimativa do autovetor para x\n",
    "        x .= xk\n",
    "        \n",
    "        # Calcula a norma de x\n",
    "        nx = norm(x)\n",
    "        \n",
    "        # Normaliza a estimativa de autovetor\n",
    "        x .= (1/nx)*x\n",
    "        \n",
    "        # Atualiza a estimativa do autovalor\n",
    "        λ = λ_k\n",
    "        \n",
    "        # Atualiza o contador de iterações\n",
    "        cont += 1\n",
    "        \n",
    "    end\n",
    "    \n",
    "     println(\"Convergência com tolerância $Δ em $cont iterações\")\n",
    "    \n",
    "    # Retorna o menor autovalor e seu autovetor\n",
    "    return λ, x\n",
    "    \n",
    "end\n"
   ]
  },
  {
   "cell_type": "code",
   "execution_count": 12,
   "id": "fe49179d",
   "metadata": {},
   "outputs": [
    {
     "data": {
      "text/plain": [
       "3×3 Matrix{Float64}:\n",
       "  3.0   1.0  -0.5\n",
       "  1.0   5.0  -0.3\n",
       " -0.5  -0.3   4.0"
      ]
     },
     "execution_count": 12,
     "metadata": {},
     "output_type": "execute_result"
    }
   ],
   "source": [
    "# Vamos definir uma matriz 3 × 3 para testar\n",
    "A = [3   1.0  -0.5;\n",
    "     1.0 5.0  -0.3\n",
    "    -0.5 -0.3  4.0]"
   ]
  },
  {
   "cell_type": "code",
   "execution_count": 13,
   "id": "da28bd1a",
   "metadata": {},
   "outputs": [
    {
     "data": {
      "text/plain": [
       "Eigen{Float64, Float64, Matrix{Float64}, Vector{Float64}}\n",
       "values:\n",
       "3-element Vector{Float64}:\n",
       " 2.5011351012663177\n",
       " 3.940078996598496\n",
       " 5.558785902135194\n",
       "vectors:\n",
       "3×3 Matrix{Float64}:\n",
       "  0.911497  -0.106641  -0.397242\n",
       " -0.336342   0.362651  -0.869113\n",
       "  0.236743   0.925803   0.294688"
      ]
     },
     "execution_count": 13,
     "metadata": {},
     "output_type": "execute_result"
    }
   ],
   "source": [
    "# Vamos utilizar o método do Julia para termos uma referência\n",
    "eigen(A)"
   ]
  },
  {
   "cell_type": "code",
   "execution_count": 14,
   "id": "7e94e024",
   "metadata": {},
   "outputs": [
    {
     "name": "stdout",
     "output_type": "stream",
     "text": [
      "Convergência com tolerância 6.977614238401486e-6 em 15 iterações\n"
     ]
    },
    {
     "data": {
      "text/plain": [
       "(2.5011398102909, [0.9113287244193371, -0.3357572426994668, 0.23821635129242366])"
      ]
     },
     "execution_count": 14,
     "metadata": {},
     "output_type": "execute_result"
    }
   ],
   "source": [
    "# Agora usando o método da potência\n",
    "Metodo_Potencia_Inversa(A,3,1E-5)"
   ]
  },
  {
   "cell_type": "code",
   "execution_count": null,
   "id": "b7d0caf0",
   "metadata": {},
   "outputs": [],
   "source": []
  }
 ],
 "metadata": {
  "kernelspec": {
   "display_name": "Julia 1.10.0-DEV",
   "language": "julia",
   "name": "julia-1.10"
  },
  "language_info": {
   "file_extension": ".jl",
   "mimetype": "application/julia",
   "name": "julia",
   "version": "1.10.0"
  }
 },
 "nbformat": 4,
 "nbformat_minor": 5
}
