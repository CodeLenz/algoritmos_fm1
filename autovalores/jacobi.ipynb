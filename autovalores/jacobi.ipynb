{
 "cells": [
  {
   "cell_type": "code",
   "execution_count": 1,
   "id": "a5001248",
   "metadata": {},
   "outputs": [],
   "source": [
    "using LinearAlgebra"
   ]
  },
  {
   "cell_type": "code",
   "execution_count": 66,
   "id": "fbd8dc0f",
   "metadata": {},
   "outputs": [
    {
     "data": {
      "text/plain": [
       "Jacobi! (generic function with 2 methods)"
      ]
     },
     "execution_count": 66,
     "metadata": {},
     "output_type": "execute_result"
    }
   ],
   "source": [
    "# Rotina Jacobi:    \n",
    "# Entradas: A        : Matriz quadrada\n",
    "#           n        : Dimensao do sistema\n",
    "#           nmaxiter : Numero maximo de iteracoes\n",
    "#           δ        : critério de parada (valor máximo fora da diagonal)\n",
    "# Saidas:   A        : Matriz com os autovalores\n",
    "#           X        : Matriz com os autovetores\n",
    "#\n",
    "#\n",
    "function Jacobi!(A,n,nmaxiter,δ)\n",
    "\n",
    "    # Inicializa a matriz dos autovetores\n",
    "    X = Array(1.0*I(n))\n",
    "\n",
    "    # Iteracoes de Jacobi\n",
    "    for i=1:nmaxiter\n",
    "\n",
    "        # Determina a posicao do maior valor fora da diagonal\n",
    "        # (em módulo)\n",
    "        val, pos = findmax(abs.(A.-diagm(diag(A))))\n",
    "        \n",
    "        # Critério de parada\n",
    "        if val <= δ\n",
    "            println(\"Máximo valor fora da diagonal é \",val)\n",
    "            break\n",
    "        end\n",
    "        \n",
    "        # linha e coluna do valor máximo\n",
    "        mi,mj = pos.I\n",
    "        \n",
    "        @show val, mi, mj\n",
    "        \n",
    "        # Determina o angulo\n",
    "        teta = 0.5*atan( 2*A[mi,mj]/(A[mi,mi]-A[mj,mj]))\n",
    "\n",
    "        # Monta a matriz de rotacao\n",
    "        R = Array(1.0*I(n))\n",
    "            \n",
    "        R[mi,mi] =  cos(teta)\n",
    "        R[mi,mj] = -sin(teta)\n",
    "        R[mj,mi] =  sin(teta)\n",
    "        R[mj,mj] =  cos(teta)\n",
    "        \n",
    "        # Rotaciona a matriz A\n",
    "        A .= transpose(R)*A*R\n",
    " \n",
    "        # Acumula a matriz dos autovetores\n",
    "        X .= X*R\n",
    "\n",
    "    end\n",
    "\n",
    "    # Retorna a matriz com os autovetores\n",
    "    return  X\n",
    "\n",
    "end"
   ]
  },
  {
   "cell_type": "code",
   "execution_count": 68,
   "id": "89a4b7c3",
   "metadata": {},
   "outputs": [
    {
     "data": {
      "text/plain": [
       "3×3 Matrix{Float64}:\n",
       " 4.0  2.0   1.0\n",
       " 2.0  6.0   1.0\n",
       " 1.0  1.0  15.0"
      ]
     },
     "execution_count": 68,
     "metadata": {},
     "output_type": "execute_result"
    }
   ],
   "source": [
    "A = 1.0*[ 4  2  1 ;\n",
    "          2  6  1 ;\n",
    "          1  1 15 ]\n"
   ]
  },
  {
   "cell_type": "code",
   "execution_count": 69,
   "id": "067c41d4",
   "metadata": {},
   "outputs": [
    {
     "data": {
      "text/plain": [
       "Eigen{Float64, Float64, Matrix{Float64}, Vector{Float64}}\n",
       "values:\n",
       "3-element Vector{Float64}:\n",
       "  2.7550020016016026\n",
       "  7.000000000000001\n",
       " 15.244997998398398\n",
       "vectors:\n",
       "3×3 Matrix{Float64}:\n",
       "  0.854736   -0.507093  0.110833\n",
       " -0.518336   -0.845154  0.130546\n",
       " -0.0274724   0.169031  0.985228"
      ]
     },
     "execution_count": 69,
     "metadata": {},
     "output_type": "execute_result"
    }
   ],
   "source": [
    "eigen(A)"
   ]
  },
  {
   "cell_type": "code",
   "execution_count": 70,
   "id": "3d537218",
   "metadata": {},
   "outputs": [
    {
     "name": "stdout",
     "output_type": "stream",
     "text": [
      "(val, mi, mj) = (2.0, 2, 1)\n",
      "(val, mi, mj) = (1.3763819204711736, 3, 2)\n",
      "(val, mi, mj) = (0.3202158292559741, 3, 1)\n",
      "(val, mi, mj) = (0.055069369900835295, 1, 2)\n",
      "(val, mi, mj) = (0.0014127479311247348, 3, 2)\n",
      "(val, mi, mj) = (1.833033379045188e-5, 1, 3)\n",
      "(val, mi, mj) = (3.1408305796386626e-9, 1, 2)\n",
      "Máximo valor fora da diagonal é 5.070922415967413e-15\n"
     ]
    },
    {
     "data": {
      "text/plain": [
       "3×3 Matrix{Float64}:\n",
       "  0.854736    0.507093  0.110833\n",
       " -0.518336    0.845154  0.130546\n",
       " -0.0274724  -0.169031  0.985228"
      ]
     },
     "execution_count": 70,
     "metadata": {},
     "output_type": "execute_result"
    }
   ],
   "source": [
    "X = Jacobi!(A,3,100,1E-12)"
   ]
  },
  {
   "cell_type": "code",
   "execution_count": 71,
   "id": "9d3b186d",
   "metadata": {},
   "outputs": [
    {
     "data": {
      "text/plain": [
       "3×3 Matrix{Float64}:\n",
       " 2.755        0.0          -1.69031e-21\n",
       " 6.31446e-16  7.0           5.07092e-15\n",
       " 3.55381e-17  4.60949e-15  15.245"
      ]
     },
     "execution_count": 71,
     "metadata": {},
     "output_type": "execute_result"
    }
   ],
   "source": [
    "A"
   ]
  },
  {
   "cell_type": "code",
   "execution_count": 72,
   "id": "30986999",
   "metadata": {},
   "outputs": [
    {
     "data": {
      "text/plain": [
       "3×3 Matrix{Float64}:\n",
       " 4.0  2.0   1.0\n",
       " 2.0  6.0   1.0\n",
       " 1.0  1.0  15.0"
      ]
     },
     "execution_count": 72,
     "metadata": {},
     "output_type": "execute_result"
    }
   ],
   "source": [
    "# Vamos rotacionar para a matriz original\n",
    "(X)*A*inv(X)"
   ]
  },
  {
   "cell_type": "code",
   "execution_count": null,
   "id": "009f4550",
   "metadata": {},
   "outputs": [],
   "source": []
  }
 ],
 "metadata": {
  "kernelspec": {
   "display_name": "Julia 1.10.0-DEV",
   "language": "julia",
   "name": "julia-1.10"
  },
  "language_info": {
   "file_extension": ".jl",
   "mimetype": "application/julia",
   "name": "julia",
   "version": "1.10.0"
  }
 },
 "nbformat": 4,
 "nbformat_minor": 5
}
