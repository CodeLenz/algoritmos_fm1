{
 "cells": [
  {
   "cell_type": "code",
   "execution_count": 18,
   "id": "12201b9e",
   "metadata": {},
   "outputs": [],
   "source": [
    "using LinearAlgebra"
   ]
  },
  {
   "cell_type": "code",
   "execution_count": 19,
   "id": "e009913e",
   "metadata": {},
   "outputs": [
    {
     "data": {
      "text/plain": [
       "Avalia_sistema (generic function with 1 method)"
      ]
     },
     "execution_count": 19,
     "metadata": {},
     "output_type": "execute_result"
    }
   ],
   "source": [
    "# Função que retorna um vetor com os valores das funções no \n",
    "# ponto atual\n",
    "function Avalia_sistema(x)\n",
    "   [ x[1]+2*x[2]+x[3]+4*x[4] - 20.7 ;\n",
    "     x[1]^2+2*x[1]*x[2]+x[4]^3 - 15.88 ;\n",
    "     x[1]^3+x[3]^3+x[4]-21.218 ;\n",
    "     3*x[2]+x[3]*x[4]-21.11 ]\n",
    "end"
   ]
  },
  {
   "cell_type": "code",
   "execution_count": 20,
   "id": "c01c67c1",
   "metadata": {},
   "outputs": [
    {
     "data": {
      "text/plain": [
       "Jacobiana (generic function with 1 method)"
      ]
     },
     "execution_count": 20,
     "metadata": {},
     "output_type": "execute_result"
    }
   ],
   "source": [
    "# Função para calcular a matriz Jacobiana \n",
    "# Linearização do operador\n",
    "function Jacobiana(x)\n",
    "    \n",
    "    J = [      1          2        1          4 ;\n",
    "         2*x[2]+2*x[1]  2*x[1]     0       3x[4]^2 ;\n",
    "         3*x[1]^2         0     3x[3]^2       1 ;\n",
    "               0          3      x[4]        x[3] ]\n",
    "    \n",
    "end\n"
   ]
  },
  {
   "cell_type": "code",
   "execution_count": 21,
   "id": "4fb14fa6",
   "metadata": {},
   "outputs": [
    {
     "data": {
      "text/plain": [
       "NR (generic function with 1 method)"
      ]
     },
     "execution_count": 21,
     "metadata": {},
     "output_type": "execute_result"
    }
   ],
   "source": [
    "# Exemplo de solução de um problema não linear\n",
    "# por linearizações sucessivas (Newton-Raphson)\n",
    "#\n",
    "#\n",
    "#\n",
    "function NR(x0,niter,δ)\n",
    " \n",
    "    # Estimativa inicial de intervalo\n",
    "    Δ = 1.0\n",
    "    \n",
    "    # Número de avaliações\n",
    "    cont = 1\n",
    "    \n",
    "    # Loop até que a solução convirja de acordo com a \n",
    "    # norma da diferença ou que o número de iterações\n",
    "    # ultrapasse o limite estabelecido pelo usuário\n",
    "    while (Δ>δ) || (cont>niter)\n",
    "        \n",
    "        # Calcula a linearização do sistema no entorno \n",
    "        # do ponto atual\n",
    "        J = Jacobiana(x0)\n",
    "        \n",
    "        # Calcula o valor das equações no ponto atual\n",
    "        b = Avalia_sistema(x0)\n",
    "        \n",
    "        # Calcula o incremento\n",
    "        Δx = J\\(-b)\n",
    "        \n",
    "        # Calcula o novo ponto\n",
    "        xk = x0 .+ Δx\n",
    "        \n",
    "        # Calcula o novo intervalo\n",
    "        Δ = norm(xk.-x0)\n",
    "        \n",
    "        # Atualiza o ponto\n",
    "        x0 .= xk\n",
    "        \n",
    "        # Atualiza o contador de iterações\n",
    "        cont += 1\n",
    "        \n",
    "    end\n",
    "    \n",
    "    # Retorna a solução \n",
    "    return x0\n",
    "    \n",
    "end"
   ]
  },
  {
   "cell_type": "code",
   "execution_count": 22,
   "id": "487af26c",
   "metadata": {},
   "outputs": [
    {
     "data": {
      "text/plain": [
       "4-element Vector{Float64}:\n",
       " 1.064983537244714\n",
       " 5.883271731929562\n",
       " 2.6545968561327347\n",
       " 1.3034690356908563"
      ]
     },
     "execution_count": 22,
     "metadata": {},
     "output_type": "execute_result"
    }
   ],
   "source": [
    "solu = NR(ones(4),100,1E-6)"
   ]
  },
  {
   "cell_type": "code",
   "execution_count": 23,
   "id": "ac887f7f",
   "metadata": {},
   "outputs": [
    {
     "data": {
      "text/plain": [
       "4-element Vector{Float64}:\n",
       " -3.552713678800501e-15\n",
       " -1.7763568394002505e-15\n",
       "  0.0\n",
       "  0.0"
      ]
     },
     "execution_count": 23,
     "metadata": {},
     "output_type": "execute_result"
    }
   ],
   "source": [
    "# Testa para ver se a solução é correta\n",
    "Avalia_sistema(solu)"
   ]
  },
  {
   "cell_type": "code",
   "execution_count": null,
   "id": "f911baf7",
   "metadata": {},
   "outputs": [],
   "source": []
  }
 ],
 "metadata": {
  "kernelspec": {
   "display_name": "Julia 1.10.0-DEV",
   "language": "julia",
   "name": "julia-1.10"
  },
  "language_info": {
   "file_extension": ".jl",
   "mimetype": "application/julia",
   "name": "julia",
   "version": "1.10.0"
  }
 },
 "nbformat": 4,
 "nbformat_minor": 5
}
